{
 "cells": [
  {
   "cell_type": "code",
   "execution_count": 1,
   "metadata": {
    "collapsed": true
   },
   "outputs": [],
   "source": [
    "import pandas as pd\n",
    "import matplotlib.pyplot as plt\n",
    "%matplotlib inline\n",
    "import numpy as np\n",
    "import seaborn as sns"
   ]
  },
  {
   "cell_type": "markdown",
   "metadata": {},
   "source": [
    "- https://www.kaggle.com/c/expedia-hotel-recommendations"
   ]
  },
  {
   "cell_type": "markdown",
   "metadata": {},
   "source": [
    "\n",
    "Column name\tDescription\tData type\n",
    "date_time\tTimestamp\tstring\n",
    "site_name\tID of the Expedia point of sale (i.e. Expedia.com, Expedia.co.uk, Expedia.co.jp, ...)\tint\n",
    "posa_continent\tID of continent associated with site_name\tint\n",
    "user_location_country\tThe ID of the country the customer is located\tint\n",
    "user_location_region\tThe ID of the region the customer is located\tint\n",
    "user_location_city\tThe ID of the city the customer is located\tint\n",
    "orig_destination_distance\tPhysical distance between a hotel and a customer at the time of search. A null means the distance could not be calculated\tdouble\n",
    "user_id\tID of user\tint\n",
    "is_mobile\t1 when a user connected from a mobile device, 0 otherwise\ttinyint\n",
    "is_package\t1 if the click/booking was generated as a part of a package (i.e. combined with a flight), 0 otherwise\tint\n",
    "channel\tID of a marketing channel\tint\n",
    "srch_ci\tCheckin date\tstring\n",
    "srch_co\tCheckout date\tstring\n",
    "srch_adults_cnt\tThe number of adults specified in the hotel room\tint\n",
    "srch_children_cnt\tThe number of (extra occupancy) children specified in the hotel room\tint\n",
    "srch_rm_cnt\tThe number of hotel rooms specified in the search\tint\n",
    "srch_destination_id\tID of the destination where the hotel search was performed\tint\n",
    "srch_destination_type_id\tType of destination\tint\n",
    "hotel_continent\tHotel continent\tint\n",
    "hotel_country\tHotel country\tint\n",
    "hotel_market\tHotel market\tint\n",
    "is_booking\t1 if a booking, 0 if a click\ttinyint\n",
    "cnt\tNumer of similar events in the context of the same user session\tbigint\n",
    "hotel_cluster\tID of a hotel cluster\tint\n",
    "destinations.csv\n",
    "\n",
    "Column name\tDescription\tData type\n",
    "srch_destination_id\tID of the destination where the hotel search was performed\tint\n",
    "d1-d149\tlatent description of search regions\tdouble"
   ]
  },
  {
   "cell_type": "markdown",
   "metadata": {},
   "source": [
    "- total rows = 37,670,293, total cols = 24"
   ]
  },
  {
   "cell_type": "code",
   "execution_count": 13,
   "metadata": {
    "scrolled": true
   },
   "outputs": [
    {
     "name": "stdout",
     "output_type": "stream",
     "text": [
      "0 (10000000, 24)\n",
      "1 (10000000, 24)\n",
      "2 (10000000, 24)\n",
      "3 (7670293, 24)\n"
     ]
    }
   ],
   "source": [
    "if 0:\n",
    "    chunksize = 10000000\n",
    "    filename = 'train.csv'\n",
    "\n",
    "    total_rows = 0\n",
    "    for i,df_chunk in enumerate(pd.read_csv(filename, chunksize=chunksize)):\n",
    "        print(i, df_chunk.shape)\n",
    "        total_rows += df_chunk.shape[0]\n",
    "        df_chunk.to_pickle('train_chunk_{}.pickle'.format(str(i)))\n",
    "        print('total rows {}'.format(str(total_rows)))"
   ]
  },
  {
   "cell_type": "code",
   "execution_count": 83,
   "metadata": {
    "collapsed": true
   },
   "outputs": [],
   "source": [
    "def check_nan(df):\n",
    "    n_row = df.shape[0]\n",
    "    df_nullsum = _get_ratio(df.isnull().sum(), n_row)\n",
    "    #df_nullsum = pd.DataFrame(, columns = ['abs'])\n",
    "    #df_nullsum['ratio(%)'] = df_nullsum['abs']/ n_row * 100\n",
    "    print(df_nullsum[df_nullsum['abs']>0])\n",
    "    #print(df_nullsum)\n",
    "    return df_nullsum\n",
    "\n",
    "def _get_ratio(sr, n_row):\n",
    "    df = pd.DataFrame(sr, columns=['abs'])\n",
    "    df['ratio(%)'] = df['abs']/ n_row * 100.0\n",
    "    return df"
   ]
  },
  {
   "cell_type": "code",
   "execution_count": 84,
   "metadata": {},
   "outputs": [
    {
     "name": "stdout",
     "output_type": "stream",
     "text": [
      "                               abs   ratio(%)\n",
      "orig_destination_distance  2717073  35.423327\n",
      "srch_ci                       9789   0.127622\n",
      "srch_co                       9787   0.127596\n",
      "                               abs   ratio(%)\n",
      "date_time                        0   0.000000\n",
      "site_name                        0   0.000000\n",
      "posa_continent                   0   0.000000\n",
      "user_location_country            0   0.000000\n",
      "user_location_region             0   0.000000\n",
      "user_location_city               0   0.000000\n",
      "orig_destination_distance  2717073  35.423327\n",
      "user_id                          0   0.000000\n",
      "is_mobile                        0   0.000000\n",
      "is_package                       0   0.000000\n",
      "channel                          0   0.000000\n",
      "srch_ci                       9789   0.127622\n",
      "srch_co                       9787   0.127596\n",
      "srch_adults_cnt                  0   0.000000\n",
      "srch_children_cnt                0   0.000000\n",
      "srch_rm_cnt                      0   0.000000\n",
      "srch_destination_id              0   0.000000\n",
      "srch_destination_type_id         0   0.000000\n",
      "is_booking                       0   0.000000\n",
      "cnt                              0   0.000000\n",
      "hotel_continent                  0   0.000000\n",
      "hotel_country                    0   0.000000\n",
      "hotel_market                     0   0.000000\n",
      "hotel_cluster                    0   0.000000\n"
     ]
    }
   ],
   "source": [
    "df_nullsum = check_nan(df_chunk)"
   ]
  },
  {
   "cell_type": "code",
   "execution_count": 80,
   "metadata": {
    "collapsed": true
   },
   "outputs": [],
   "source": [
    "df = df_chunk\n",
    "n_row = df.shape[0]\n",
    "sr_unique_value = df[col_name].value_counts()\n",
    "#df_unique_value"
   ]
  },
  {
   "cell_type": "code",
   "execution_count": 82,
   "metadata": {},
   "outputs": [
    {
     "data": {
      "text/html": [
       "<div>\n",
       "<style>\n",
       "    .dataframe thead tr:only-child th {\n",
       "        text-align: right;\n",
       "    }\n",
       "\n",
       "    .dataframe thead th {\n",
       "        text-align: left;\n",
       "    }\n",
       "\n",
       "    .dataframe tbody tr th {\n",
       "        vertical-align: top;\n",
       "    }\n",
       "</style>\n",
       "<table border=\"1\" class=\"dataframe\">\n",
       "  <thead>\n",
       "    <tr style=\"text-align: right;\">\n",
       "      <th></th>\n",
       "      <th>abs</th>\n",
       "      <th>ratio(%)</th>\n",
       "    </tr>\n",
       "  </thead>\n",
       "  <tbody>\n",
       "  </tbody>\n",
       "</table>\n",
       "</div>"
      ],
      "text/plain": [
       "Empty DataFrame\n",
       "Columns: [abs, ratio(%)]\n",
       "Index: []"
      ]
     },
     "execution_count": 82,
     "metadata": {},
     "output_type": "execute_result"
    }
   ],
   "source": [
    "df1 = _get_ratio(sr_unique_value, n_row)\n",
    "df1"
   ]
  },
  {
   "cell_type": "code",
   "execution_count": 66,
   "metadata": {},
   "outputs": [
    {
     "data": {
      "image/png": "[encoded data removed]",
      "text/plain": [
       "<matplotlib.figure.Figure at 0x9c498c18>"
      ]
     },
     "metadata": {},
     "output_type": "display_data"
    }
   ],
   "source": [
    "# for categorical data\n",
    "#['site_name','is_mobile', 'posa_continent','site_name', 'user_location_country','user_location_region', 'user_location_city']\n",
    "col_name =  'is_mobile' # '\n",
    "set_yscale_log = False\n",
    "#df[col_name].hist(bins=100)\n",
    "plt.figure(figsize=(8,8))\n",
    "ax = plt.subplot(111) # nrow, ncol, i\n",
    "n, bins, patches = ax.hist(df[col_name],bins=min(100))\n",
    "ax.set_title(col_name)\n",
    "if set_yscale_log:\n",
    "    ax.set_yscale(\"log\")"
   ]
  },
  {
   "cell_type": "code",
   "execution_count": null,
   "metadata": {
    "collapsed": true
   },
   "outputs": [],
   "source": []
  },
  {
   "cell_type": "code",
   "execution_count": 25,
   "metadata": {},
   "outputs": [
    {
     "ename": "AttributeError",
     "evalue": "'Series' object has no attribute 'columns'",
     "output_type": "error",
     "traceback": [
      "\u001b[1;31m---------------------------------------------------------------------------\u001b[0m",
      "\u001b[1;31mAttributeError\u001b[0m                            Traceback (most recent call last)",
      "\u001b[1;32m<ipython-input-25-68dddc349d55>\u001b[0m in \u001b[0;36m<module>\u001b[1;34m()\u001b[0m\n\u001b[1;32m----> 1\u001b[1;33m \u001b[0msr_nullsum\u001b[0m\u001b[1;33m.\u001b[0m\u001b[0mcolumns\u001b[0m\u001b[1;33m\u001b[0m\u001b[0m\n\u001b[0m",
      "\u001b[1;32m~\\AppData\\Local\\Continuum\\Anaconda3\\envs\\frac_detect\\lib\\site-packages\\pandas\\core\\generic.py\u001b[0m in \u001b[0;36m__getattr__\u001b[1;34m(self, name)\u001b[0m\n\u001b[0;32m   3075\u001b[0m         if (name in self._internal_names_set or name in self._metadata or\n\u001b[0;32m   3076\u001b[0m                 name in self._accessors):\n\u001b[1;32m-> 3077\u001b[1;33m             \u001b[1;32mreturn\u001b[0m \u001b[0mobject\u001b[0m\u001b[1;33m.\u001b[0m\u001b[0m__getattribute__\u001b[0m\u001b[1;33m(\u001b[0m\u001b[0mself\u001b[0m\u001b[1;33m,\u001b[0m \u001b[0mname\u001b[0m\u001b[1;33m)\u001b[0m\u001b[1;33m\u001b[0m\u001b[0m\n\u001b[0m\u001b[0;32m   3078\u001b[0m         \u001b[1;32melse\u001b[0m\u001b[1;33m:\u001b[0m\u001b[1;33m\u001b[0m\u001b[0m\n\u001b[0;32m   3079\u001b[0m             \u001b[1;32mif\u001b[0m \u001b[0mname\u001b[0m \u001b[1;32min\u001b[0m \u001b[0mself\u001b[0m\u001b[1;33m.\u001b[0m\u001b[0m_info_axis\u001b[0m\u001b[1;33m:\u001b[0m\u001b[1;33m\u001b[0m\u001b[0m\n",
      "\u001b[1;31mAttributeError\u001b[0m: 'Series' object has no attribute 'columns'"
     ]
    }
   ],
   "source": []
  },
  {
   "cell_type": "code",
   "execution_count": 19,
   "metadata": {
    "collapsed": true
   },
   "outputs": [],
   "source": [
    "a = df_isnull.sum() "
   ]
  },
  {
   "cell_type": "code",
   "execution_count": 23,
   "metadata": {},
   "outputs": [
    {
     "data": {
      "text/plain": [
       "orig_destination_distance    2717073\n",
       "srch_ci                         9789\n",
       "srch_co                         9787\n",
       "dtype: int64"
      ]
     },
     "execution_count": 23,
     "metadata": {},
     "output_type": "execute_result"
    }
   ],
   "source": []
  },
  {
   "cell_type": "code",
   "execution_count": 13,
   "metadata": {},
   "outputs": [
    {
     "name": "stdout",
     "output_type": "stream",
     "text": [
      "(500, 22) ['id' 'date_time' 'site_name' 'posa_continent' 'user_location_country'\n",
      " 'user_location_region' 'user_location_city' 'orig_destination_distance'\n",
      " 'user_id' 'is_mobile' 'is_package' 'channel' 'srch_ci' 'srch_co'\n",
      " 'srch_adults_cnt' 'srch_children_cnt' 'srch_rm_cnt' 'srch_destination_id'\n",
      " 'srch_destination_type_id' 'hotel_continent' 'hotel_country'\n",
      " 'hotel_market']\n"
     ]
    }
   ],
   "source": [
    "df_test = pd.read_csv('test.csv', nrows=500)\n",
    "print(df_test.shape,df_test.columns.values)\n",
    "#df_test.head(10)"
   ]
  },
  {
   "cell_type": "code",
   "execution_count": 3,
   "metadata": {
    "collapsed": true
   },
   "outputs": [],
   "source": [
    "if 0:\n",
    "    df.to_pickle('train.pickle')\n",
    "df = pd.read_pickle('train.pickle')"
   ]
  },
  {
   "cell_type": "markdown",
   "metadata": {},
   "source": [
    "### Missing values"
   ]
  },
  {
   "cell_type": "code",
   "execution_count": 4,
   "metadata": {},
   "outputs": [
    {
     "data": {
      "text/plain": [
       "date_time                          0\n",
       "site_name                          0\n",
       "posa_continent                     0\n",
       "user_location_country              0\n",
       "user_location_region               0\n",
       "user_location_city                 0\n",
       "orig_destination_distance    1799447\n",
       "user_id                            0\n",
       "is_mobile                          0\n",
       "is_package                         0\n",
       "channel                            0\n",
       "srch_ci                         6099\n",
       "srch_co                         6099\n",
       "srch_adults_cnt                    0\n",
       "srch_children_cnt                  0\n",
       "srch_rm_cnt                        0\n",
       "srch_destination_id                0\n",
       "srch_destination_type_id           0\n",
       "is_booking                         0\n",
       "cnt                                0\n",
       "hotel_continent                    0\n",
       "hotel_country                      0\n",
       "hotel_market                       0\n",
       "hotel_cluster                      0\n",
       "dtype: int64"
      ]
     },
     "execution_count": 4,
     "metadata": {},
     "output_type": "execute_result"
    }
   ],
   "source": [
    "a = df.isnull().sum()\n",
    "a\n",
    "# orig_destination_distance  0.3598894 missing value, srch_ci 0.0012198%. srch_co 6099"
   ]
  },
  {
   "cell_type": "code",
   "execution_count": 22,
   "metadata": {},
   "outputs": [
    {
     "data": {
      "text/plain": [
       "date_time                    1373\n",
       "site_name                    1373\n",
       "posa_continent               1373\n",
       "user_location_country        1373\n",
       "user_location_region         1373\n",
       "user_location_city           1373\n",
       "orig_destination_distance    1373\n",
       "user_id                      1373\n",
       "is_mobile                    1373\n",
       "is_package                   1373\n",
       "channel                      1373\n",
       "srch_ci                      1368\n",
       "srch_co                      1368\n",
       "srch_adults_cnt              1373\n",
       "srch_children_cnt            1373\n",
       "srch_rm_cnt                  1373\n",
       "srch_destination_id          1373\n",
       "srch_destination_type_id     1373\n",
       "is_booking                   1373\n",
       "cnt                          1373\n",
       "hotel_continent              1373\n",
       "hotel_country                1373\n",
       "hotel_market                 1373\n",
       "hotel_cluster                1373\n",
       "dtype: int64"
      ]
     },
     "execution_count": 22,
     "metadata": {},
     "output_type": "execute_result"
    }
   ],
   "source": [
    "df[df['orig_destination_distance'] <0.1 ].count() "
   ]
  },
  {
   "cell_type": "code",
   "execution_count": 44,
   "metadata": {},
   "outputs": [
    {
     "data": {
      "text/plain": [
       "date_time                    401443\n",
       "site_name                    401443\n",
       "posa_continent               401443\n",
       "user_location_country        401443\n",
       "user_location_region         401443\n",
       "user_location_city           401443\n",
       "orig_destination_distance    266368\n",
       "user_id                      401443\n",
       "is_mobile                    401443\n",
       "is_package                   401443\n",
       "channel                      401443\n",
       "srch_ci                      401443\n",
       "srch_co                      401443\n",
       "srch_adults_cnt              401443\n",
       "srch_children_cnt            401443\n",
       "srch_rm_cnt                  401443\n",
       "srch_destination_id          401443\n",
       "srch_destination_type_id     401443\n",
       "is_booking                   401443\n",
       "cnt                          401443\n",
       "hotel_continent              401443\n",
       "hotel_country                401443\n",
       "hotel_market                 401443\n",
       "hotel_cluster                401443\n",
       "dtype: int64"
      ]
     },
     "execution_count": 44,
     "metadata": {},
     "output_type": "execute_result"
    }
   ],
   "source": [
    "id1 = df[df['is_booking']==1]\n",
    "id1.count()"
   ]
  },
  {
   "cell_type": "code",
   "execution_count": 46,
   "metadata": {
    "collapsed": true
   },
   "outputs": [],
   "source": [
    "idd = id1['orig_destination_distance'].apply(np.isnan) "
   ]
  },
  {
   "cell_type": "code",
   "execution_count": 1,
   "metadata": {},
   "outputs": [
    {
     "ename": "NameError",
     "evalue": "name 'idd' is not defined",
     "output_type": "error",
     "traceback": [
      "\u001b[0;31m---------------------------------------------------------------------------\u001b[0m",
      "\u001b[0;31mNameError\u001b[0m                                 Traceback (most recent call last)",
      "\u001b[0;32m<ipython-input-1-da49cfd09fc2>\u001b[0m in \u001b[0;36m<module>\u001b[0;34m()\u001b[0m\n\u001b[0;32m----> 1\u001b[0;31m \u001b[0msum\u001b[0m\u001b[1;33m(\u001b[0m\u001b[0midd\u001b[0m\u001b[1;33m)\u001b[0m \u001b[1;33m/\u001b[0m \u001b[1;33m(\u001b[0m\u001b[1;36m1.0\u001b[0m\u001b[1;33m*\u001b[0m\u001b[0midd\u001b[0m\u001b[1;33m.\u001b[0m\u001b[0mshape\u001b[0m\u001b[1;33m[\u001b[0m\u001b[1;36m0\u001b[0m\u001b[1;33m]\u001b[0m\u001b[1;33m)\u001b[0m\u001b[1;33m\u001b[0m\u001b[0m\n\u001b[0m",
      "\u001b[0;31mNameError\u001b[0m: name 'idd' is not defined"
     ]
    }
   ],
   "source": [
    "sum(idd) / (1.0*idd.shape[0])"
   ]
  },
  {
   "cell_type": "code",
   "execution_count": 75,
   "metadata": {},
   "outputs": [
    {
     "data": {
      "text/plain": [
       "array([ 0.       ,  0.       ,  0.       ,  0.       ,  0.       ,\n",
       "        0.       ,  0.3598894,  0.       ,  0.       ,  0.       ,\n",
       "        0.       ,  0.0012198,  0.0012198,  0.       ,  0.       ,\n",
       "        0.       ,  0.       ,  0.       ,  0.       ,  0.       ,\n",
       "        0.       ,  0.       ,  0.       ,  0.       ])"
      ]
     },
     "execution_count": 75,
     "metadata": {},
     "output_type": "execute_result"
    }
   ],
   "source": [
    "a.values / (1.0*df.shape[0])"
   ]
  },
  {
   "cell_type": "markdown",
   "metadata": {},
   "source": [
    "### Sample data"
   ]
  },
  {
   "cell_type": "code",
   "execution_count": 7,
   "metadata": {
    "collapsed": true
   },
   "outputs": [],
   "source": [
    "df_sa = df.sample(n=100000,random_state=10).sort_index()\n",
    "df_sa.shape\n",
    "n_row = df_sa.shape[0]\n",
    "n_col = df_sa.shape[1]"
   ]
  },
  {
   "cell_type": "code",
   "execution_count": null,
   "metadata": {
    "collapsed": true
   },
   "outputs": [],
   "source": []
  },
  {
   "cell_type": "markdown",
   "metadata": {},
   "source": [
    "date_time                          0\n",
    "site_name                          0\n",
    "posa_continent                     0\n",
    "user_location_country              one country dominant \n",
    "user_location_region               0\n",
    "user_location_city                 0\n",
    "orig_destination_distance    1799447\n",
    "user_id                            unique value 90\n",
    "is_mobile                          0\n",
    "is_package                         0\n",
    "channel                            0\n",
    "srch_ci                         6099\n",
    "srch_co                         6099\n",
    "srch_adults_cnt                    0\n",
    "srch_children_cnt                  0\n",
    "srch_rm_cnt                        0\n",
    "srch_destination_id                0\n",
    "srch_destination_type_id           0\n",
    "is_booking                         0\n",
    "cnt                                0\n",
    "hotel_continent                    0\n",
    "hotel_country                      0\n",
    "hotel_market                       0\n",
    "hotel_cluster     "
   ]
  },
  {
   "cell_type": "code",
   "execution_count": 10,
   "metadata": {},
   "outputs": [
    {
     "data": {
      "text/html": [
       "<div>\n",
       "<style>\n",
       "    .dataframe thead tr:only-child th {\n",
       "        text-align: right;\n",
       "    }\n",
       "\n",
       "    .dataframe thead th {\n",
       "        text-align: left;\n",
       "    }\n",
       "\n",
       "    .dataframe tbody tr th {\n",
       "        vertical-align: top;\n",
       "    }\n",
       "</style>\n",
       "<table border=\"1\" class=\"dataframe\">\n",
       "  <thead>\n",
       "    <tr style=\"text-align: right;\">\n",
       "      <th></th>\n",
       "      <th>date_time</th>\n",
       "      <th>site_name</th>\n",
       "      <th>posa_continent</th>\n",
       "      <th>user_location_country</th>\n",
       "      <th>user_location_region</th>\n",
       "      <th>user_location_city</th>\n",
       "      <th>orig_destination_distance</th>\n",
       "      <th>user_id</th>\n",
       "      <th>is_mobile</th>\n",
       "      <th>is_package</th>\n",
       "      <th>...</th>\n",
       "      <th>srch_children_cnt</th>\n",
       "      <th>srch_rm_cnt</th>\n",
       "      <th>srch_destination_id</th>\n",
       "      <th>srch_destination_type_id</th>\n",
       "      <th>is_booking</th>\n",
       "      <th>cnt</th>\n",
       "      <th>hotel_continent</th>\n",
       "      <th>hotel_country</th>\n",
       "      <th>hotel_market</th>\n",
       "      <th>hotel_cluster</th>\n",
       "    </tr>\n",
       "  </thead>\n",
       "  <tbody>\n",
       "    <tr>\n",
       "      <th>0</th>\n",
       "      <td>2014-08-11 07:46:59</td>\n",
       "      <td>2</td>\n",
       "      <td>3</td>\n",
       "      <td>66</td>\n",
       "      <td>348</td>\n",
       "      <td>48862</td>\n",
       "      <td>2234.2641</td>\n",
       "      <td>12</td>\n",
       "      <td>0</td>\n",
       "      <td>1</td>\n",
       "      <td>...</td>\n",
       "      <td>0</td>\n",
       "      <td>1</td>\n",
       "      <td>8250</td>\n",
       "      <td>1</td>\n",
       "      <td>0</td>\n",
       "      <td>3</td>\n",
       "      <td>2</td>\n",
       "      <td>50</td>\n",
       "      <td>628</td>\n",
       "      <td>1</td>\n",
       "    </tr>\n",
       "    <tr>\n",
       "      <th>1</th>\n",
       "      <td>2014-08-11 08:22:12</td>\n",
       "      <td>2</td>\n",
       "      <td>3</td>\n",
       "      <td>66</td>\n",
       "      <td>348</td>\n",
       "      <td>48862</td>\n",
       "      <td>2234.2641</td>\n",
       "      <td>12</td>\n",
       "      <td>0</td>\n",
       "      <td>1</td>\n",
       "      <td>...</td>\n",
       "      <td>0</td>\n",
       "      <td>1</td>\n",
       "      <td>8250</td>\n",
       "      <td>1</td>\n",
       "      <td>1</td>\n",
       "      <td>1</td>\n",
       "      <td>2</td>\n",
       "      <td>50</td>\n",
       "      <td>628</td>\n",
       "      <td>1</td>\n",
       "    </tr>\n",
       "    <tr>\n",
       "      <th>2</th>\n",
       "      <td>2014-08-11 08:24:33</td>\n",
       "      <td>2</td>\n",
       "      <td>3</td>\n",
       "      <td>66</td>\n",
       "      <td>348</td>\n",
       "      <td>48862</td>\n",
       "      <td>2234.2641</td>\n",
       "      <td>12</td>\n",
       "      <td>0</td>\n",
       "      <td>0</td>\n",
       "      <td>...</td>\n",
       "      <td>0</td>\n",
       "      <td>1</td>\n",
       "      <td>8250</td>\n",
       "      <td>1</td>\n",
       "      <td>0</td>\n",
       "      <td>1</td>\n",
       "      <td>2</td>\n",
       "      <td>50</td>\n",
       "      <td>628</td>\n",
       "      <td>1</td>\n",
       "    </tr>\n",
       "    <tr>\n",
       "      <th>3</th>\n",
       "      <td>2014-08-09 18:05:16</td>\n",
       "      <td>2</td>\n",
       "      <td>3</td>\n",
       "      <td>66</td>\n",
       "      <td>442</td>\n",
       "      <td>35390</td>\n",
       "      <td>913.1932</td>\n",
       "      <td>93</td>\n",
       "      <td>0</td>\n",
       "      <td>0</td>\n",
       "      <td>...</td>\n",
       "      <td>0</td>\n",
       "      <td>1</td>\n",
       "      <td>14984</td>\n",
       "      <td>1</td>\n",
       "      <td>0</td>\n",
       "      <td>1</td>\n",
       "      <td>2</td>\n",
       "      <td>50</td>\n",
       "      <td>1457</td>\n",
       "      <td>80</td>\n",
       "    </tr>\n",
       "    <tr>\n",
       "      <th>4</th>\n",
       "      <td>2014-08-09 18:08:18</td>\n",
       "      <td>2</td>\n",
       "      <td>3</td>\n",
       "      <td>66</td>\n",
       "      <td>442</td>\n",
       "      <td>35390</td>\n",
       "      <td>913.6259</td>\n",
       "      <td>93</td>\n",
       "      <td>0</td>\n",
       "      <td>0</td>\n",
       "      <td>...</td>\n",
       "      <td>0</td>\n",
       "      <td>1</td>\n",
       "      <td>14984</td>\n",
       "      <td>1</td>\n",
       "      <td>0</td>\n",
       "      <td>1</td>\n",
       "      <td>2</td>\n",
       "      <td>50</td>\n",
       "      <td>1457</td>\n",
       "      <td>21</td>\n",
       "    </tr>\n",
       "  </tbody>\n",
       "</table>\n",
       "<p>5 rows × 24 columns</p>\n",
       "</div>"
      ],
      "text/plain": [
       "             date_time  site_name  posa_continent  user_location_country  \\\n",
       "0  2014-08-11 07:46:59          2               3                     66   \n",
       "1  2014-08-11 08:22:12          2               3                     66   \n",
       "2  2014-08-11 08:24:33          2               3                     66   \n",
       "3  2014-08-09 18:05:16          2               3                     66   \n",
       "4  2014-08-09 18:08:18          2               3                     66   \n",
       "\n",
       "   user_location_region  user_location_city  orig_destination_distance  \\\n",
       "0                   348               48862                  2234.2641   \n",
       "1                   348               48862                  2234.2641   \n",
       "2                   348               48862                  2234.2641   \n",
       "3                   442               35390                   913.1932   \n",
       "4                   442               35390                   913.6259   \n",
       "\n",
       "   user_id  is_mobile  is_package      ...        srch_children_cnt  \\\n",
       "0       12          0           1      ...                        0   \n",
       "1       12          0           1      ...                        0   \n",
       "2       12          0           0      ...                        0   \n",
       "3       93          0           0      ...                        0   \n",
       "4       93          0           0      ...                        0   \n",
       "\n",
       "  srch_rm_cnt srch_destination_id  srch_destination_type_id  is_booking  cnt  \\\n",
       "0           1                8250                         1           0    3   \n",
       "1           1                8250                         1           1    1   \n",
       "2           1                8250                         1           0    1   \n",
       "3           1               14984                         1           0    1   \n",
       "4           1               14984                         1           0    1   \n",
       "\n",
       "   hotel_continent  hotel_country  hotel_market  hotel_cluster  \n",
       "0                2             50           628              1  \n",
       "1                2             50           628              1  \n",
       "2                2             50           628              1  \n",
       "3                2             50          1457             80  \n",
       "4                2             50          1457             21  \n",
       "\n",
       "[5 rows x 24 columns]"
      ]
     },
     "execution_count": 10,
     "metadata": {},
     "output_type": "execute_result"
    }
   ],
   "source": [
    "df.head(5)"
   ]
  },
  {
   "cell_type": "code",
   "execution_count": 9,
   "metadata": {},
   "outputs": [
    {
     "name": "stdout",
     "output_type": "stream",
     "text": [
      "(159850,) 1.5985 31.2793243666 [530 495 471 467 456 451 448 448 446 438] [2 2 2 2 2 2 2 2 2]\n"
     ]
    },
    {
     "data": {
      "image/png": "[encoded data removed]",
      "text/plain": [
       "<matplotlib.figure.Figure at 0x1ebb768dcf8>"
      ]
     },
     "metadata": {},
     "output_type": "display_data"
    }
   ],
   "source": [
    "# for categorical data\n",
    "col_name =  'user_id' # 'is_mobile' 'posa_continent','site_name', 'user_location_country','user_location_region', 'user_location_city'\n",
    "#df[col_name].hist(bins=100)\n",
    "plt.figure()\n",
    "data = df[col_name].value_counts().values\n",
    "data_mean = np.mean(data)\n",
    "#fig, axies = plt.subplots(211)\n",
    "plt.plot(data)\n",
    "#axies[1]\n",
    "#plt.boxplot(df_sa[col_name].values)\n",
    "print(data.shape, data.shape[0]/ (1.0*n_row), data_mean, data[0:10],data[-10:-1])\n",
    "# user_location_country: only a few "
   ]
  },
  {
   "cell_type": "code",
   "execution_count": 145,
   "metadata": {},
   "outputs": [
    {
     "data": {
      "text/plain": [
       "[<matplotlib.lines.Line2D at 0x10600f28>]"
      ]
     },
     "execution_count": 145,
     "metadata": {},
     "output_type": "execute_result"
    },
    {
     "data": {
      "image/png": "[encoded data removed]",
      "text/plain": [
       "<matplotlib.figure.Figure at 0x24f65278>"
      ]
     },
     "metadata": {},
     "output_type": "display_data"
    }
   ],
   "source": [
    "# non-categorical data\n",
    "col_name =  'cnt' # 'is_mobile' 'posa_continent','site_name', 'user_location_country','user_location_region', 'user_location_city'\n",
    "plt.figure()\n",
    "data = df_sa[col_name].value_counts()\n",
    "#plt.hist(data)\n",
    "plt.plot(data.index, data.values,'o')"
   ]
  },
  {
   "cell_type": "code",
   "execution_count": 65,
   "metadata": {},
   "outputs": [
    {
     "data": {
      "text/plain": [
       "[<matplotlib.lines.Line2D at 0x6610f5f8>]"
      ]
     },
     "execution_count": 65,
     "metadata": {},
     "output_type": "execute_result"
    },
    {
     "data": {
      "image/png": "[encoded data removed]",
      "text/plain": [
       "<matplotlib.figure.Figure at 0xdfc2a20>"
      ]
     },
     "metadata": {},
     "output_type": "display_data"
    }
   ],
   "source": [
    "\n"
   ]
  },
  {
   "cell_type": "code",
   "execution_count": null,
   "metadata": {
    "collapsed": true
   },
   "outputs": [],
   "source": []
  }
 ],
 "metadata": {
  "anaconda-cloud": {},
  "kernelspec": {
   "display_name": "Python 3",
   "language": "python",
   "name": "python3"
  },
  "language_info": {
   "codemirror_mode": {
    "name": "ipython",
    "version": 3
   },
   "file_extension": ".py",
   "mimetype": "text/x-python",
   "name": "python",
   "nbconvert_exporter": "python",
   "pygments_lexer": "ipython3",
   "version": "3.6.3"
  }
 },
 "nbformat": 4,
 "nbformat_minor": 1
}
